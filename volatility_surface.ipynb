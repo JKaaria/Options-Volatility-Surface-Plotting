{
 "cells": [
  {
   "cell_type": "code",
   "execution_count": 30,
   "metadata": {},
   "outputs": [],
   "source": [
    "import yfinance as yf\n",
    "import plotly.graph_objects as go\n",
    "from datetime import datetime"
   ]
  },
  {
   "cell_type": "code",
   "execution_count": null,
   "metadata": {},
   "outputs": [],
   "source": [
    "# Function to get options data for a given ticker\n",
    "def get_options_data(ticker):\n",
    "    stock = yf.Ticker(ticker)\n",
    "    expirations = stock.options\n",
    "    options_data = {}\n",
    "\n",
    "    for expiration_date in expirations:\n",
    "        options_chain = stock.option_chain(expiration_date)\n",
    "        options_data[expiration_date] = {\n",
    "            'calls': options_chain.calls.to_dict(orient='records'),\n",
    "            'puts': options_chain.puts.to_dict(orient='records')\n",
    "        }\n",
    "\n",
    "    return options_data\n",
    "\n",
    "# Example ticker\n",
    "ticker = 'SPY'\n",
    "options_data = get_options_data(ticker)\n",
    "print(options_data)\n",
    "\n",
    "# Get historical prices\n",
    "history = yf.Ticker(ticker).history(period='1d')\n",
    "last_price = history['Close'].iloc[-1]\n",
    "\n",
    "# Convert expiration dates to datetime objects\n",
    "expiration_dates = [datetime.strptime(date, '%Y-%m-%d') for date in options_data.keys()]\n",
    "\n",
    "# Create an empty list to store traces\n",
    "traces = []"
   ]
  },
  {
   "cell_type": "code",
   "execution_count": 32,
   "metadata": {},
   "outputs": [],
   "source": [
    "# Loop through each expiration date\n",
    "for expiration_date in expiration_dates:\n",
    "    formatted_date = expiration_date.strftime('%Y-%m-%d')\n",
    "    \n",
    "    # Extract data for visualization\n",
    "    strike_prices_calls = [float(call['strike']) for call in options_data[formatted_date]['calls']]\n",
    "    strike_prices_puts = [float(put['strike']) for put in options_data[formatted_date]['puts']]\n",
    "    iv_calls = [float(call['impliedVolatility']) for call in options_data[formatted_date]['calls']]\n",
    "    iv_puts = [float(put['impliedVolatility']) for put in options_data[formatted_date]['puts']]\n",
    "    \n",
    "    # Get day of the year for the expiration date\n",
    "    expiration_day_of_year = expiration_date.timetuple().tm_yday\n",
    "    \n",
    "    # Create traces for call and put options\n",
    "    trace_calls = go.Scatter3d(\n",
    "        x=strike_prices_calls,\n",
    "        y=[expiration_day_of_year] * len(strike_prices_calls),\n",
    "        z=iv_calls,\n",
    "        mode='markers',\n",
    "        marker=dict(size=5, color='blue'),  # Set color for call options (e.g., blue)\n",
    "        name=f'Call Options - {formatted_date}'\n",
    "    )\n",
    "    \n",
    "    trace_puts = go.Scatter3d(\n",
    "        x=strike_prices_puts,\n",
    "        y=[expiration_day_of_year] * len(strike_prices_puts),\n",
    "        z=iv_puts,\n",
    "        mode='markers',\n",
    "        marker=dict(size=5, color='red'),  # Set color for put options (e.g., red)\n",
    "        name=f'Put Options - {formatted_date}'\n",
    "    )\n",
    "    \n",
    "    # Append traces to the list\n",
    "    traces.extend([trace_calls, trace_puts])\n",
    "\n",
    "# Create layout\n",
    "layout = go.Layout(\n",
    "    scene=dict(\n",
    "        xaxis=dict(title='Strike Price'),\n",
    "        yaxis=dict(title='Expiration Day of Year'),\n",
    "        zaxis=dict(title='Implied Volatility'),\n",
    "    ),\n",
    "    title=f'Volatility Surface for {ticker} - Last Price: {last_price}',\n",
    "    showlegend=True\n",
    ")"
   ]
  },
  {
   "cell_type": "code",
   "execution_count": 33,
   "metadata": {},
   "outputs": [
    {
     "name": "stdout",
     "output_type": "stream",
     "text": [
      "Volatility surface saved to: volatility_surface.html\n"
     ]
    }
   ],
   "source": [
    "# Create figure\n",
    "fig = go.Figure(data=traces, layout=layout)\n",
    "\n",
    "# Save the HTML file\n",
    "html_file_path = 'volatility_surface.html'\n",
    "fig.write_html(html_file_path)\n",
    "\n",
    "# Print the path to the HTML file\n",
    "print(f'Volatility surface saved to: {html_file_path}')"
   ]
  }
 ],
 "metadata": {
  "kernelspec": {
   "display_name": "base",
   "language": "python",
   "name": "python3"
  },
  "language_info": {
   "codemirror_mode": {
    "name": "ipython",
    "version": 3
   },
   "file_extension": ".py",
   "mimetype": "text/x-python",
   "name": "python",
   "nbconvert_exporter": "python",
   "pygments_lexer": "ipython3",
   "version": "3.9.15"
  }
 },
 "nbformat": 4,
 "nbformat_minor": 2
}
